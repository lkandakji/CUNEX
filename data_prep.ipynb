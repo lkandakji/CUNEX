{
 "cells": [
  {
   "cell_type": "code",
   "execution_count": null,
   "metadata": {},
   "outputs": [],
   "source": [
    "import os\n",
    "import csv\n",
    "import json\n",
    "import shutil\n",
    "import pandas as pd\n",
    "from tqdm import tqdm\n",
    "import numpy as np\n",
    "from PIL import Image\n",
    "from sklearn.model_selection import KFold\n",
    "from PIL import Image, UnidentifiedImageError\n",
    "from sklearn.model_selection import GroupKFold\n",
    "from sklearn.model_selection import GroupShuffleSplit"
   ]
  },
  {
   "cell_type": "markdown",
   "metadata": {},
   "source": [
    "IF IMAGES ARE .WEBP RUN BELOW"
   ]
  },
  {
   "cell_type": "code",
   "execution_count": null,
   "metadata": {},
   "outputs": [],
   "source": [
    "def convert_webp_to_png(directory):\n",
    "    for subdir, dirs, files in os.walk(directory):\n",
    "        for file in files:\n",
    "            if file.endswith('.webp'):\n",
    "                webp_path = os.path.join(subdir, file)\n",
    "                png_path = os.path.join(subdir, os.path.splitext(file)[0] + '.png')\n",
    "                \n",
    "                # Open the WEBP and convert it to PNG\n",
    "                image = Image.open(webp_path)\n",
    "                image.save(png_path, 'PNG')\n",
    "                print(f\"Converted {webp_path} to {png_path}\")\n",
    "\n",
    "                # Optionally, remove the original WEBP file\n",
    "                os.remove(webp_path)\n",
    "                print(f\"Removed original {webp_path}\")\n",
    "\n",
    "# Define your image directory\n",
    "base_dir = \"your/image/dataset/directory\"\n",
    "\n",
    "# Convert all WEBP images in the base directory\n",
    "convert_webp_to_png(base_dir)"
   ]
  },
  {
   "cell_type": "markdown",
   "metadata": {},
   "source": [
    "IF IMAGES ARE .BMP RUN BELOW"
   ]
  },
  {
   "cell_type": "code",
   "execution_count": null,
   "metadata": {},
   "outputs": [],
   "source": [
    "def convert_bmp_to_png(directory):\n",
    "    for subdir, dirs, files in os.walk(directory):\n",
    "        for file in files:\n",
    "            if file.lower().endswith('.bmp'):\n",
    "                bmp_path = os.path.join(subdir, file)\n",
    "                png_path = os.path.join(subdir, os.path.splitext(file)[0] + '.png')\n",
    "                \n",
    "                # Open and convert the image\n",
    "                image = Image.open(bmp_path)\n",
    "                image.save(png_path, 'PNG')\n",
    "                print(f\"Converted {bmp_path} to {png_path}\")\n",
    "\n",
    "                # Optionally remove the original\n",
    "                os.remove(bmp_path)\n",
    "                print(f\"Removed original {bmp_path}\")\n",
    "\n",
    "# Define your image directory\n",
    "base_dir = \"your/image/dataset/directory\"\n",
    "\n",
    "# Run conversion\n",
    "convert_bmp_to_png(base_dir)"
   ]
  },
  {
   "cell_type": "markdown",
   "metadata": {},
   "source": [
    "CREATE MAPPING CSV"
   ]
  },
  {
   "cell_type": "code",
   "execution_count": null,
   "metadata": {},
   "outputs": [],
   "source": [
    "# Set your image directory here\n",
    "image_dir = \"your/image/dataset/directory\"\n",
    "csv_file_path = os.path.join(image_dir, \"mapping.csv\")\n",
    "\n",
    "# Automatically find all .png files in the directory\n",
    "image_filenames = [f for f in os.listdir(image_dir) if f.endswith(\".png\")]\n",
    "\n",
    "# Write the CSV\n",
    "with open(csv_file_path, 'w', newline='') as csvfile:\n",
    "    writer = csv.writer(csvfile)\n",
    "    writer.writerow(['dataset_type', 'image_path', 'label_path'])\n",
    "\n",
    "    for img in image_filenames:\n",
    "        img_path = os.path.join(image_dir, img)\n",
    "        if os.path.exists(img_path):\n",
    "            writer.writerow([\"scleral_lens_photo\", img_path, \"\"])\n",
    "        else:\n",
    "            print(f\"Image not found: {img_path}\")\n",
    "\n",
    "print(f\"CSV file created at {csv_file_path}\")"
   ]
  },
  {
   "cell_type": "markdown",
   "metadata": {},
   "source": [
    "CUNEX PREP"
   ]
  },
  {
   "cell_type": "code",
   "execution_count": null,
   "metadata": {},
   "outputs": [],
   "source": [
    "output_base_path = \"your_working_directory/nnunet/dataset/nnunet_raw/nnunet_raw_data/Dataset001_name\"\n",
    "os.makedirs(os.path.join(output_base_path, 'imagesTs'), exist_ok=True)"
   ]
  },
  {
   "cell_type": "code",
   "execution_count": null,
   "metadata": {},
   "outputs": [],
   "source": [
    "# Define label mapping\n",
    "label_mapping = {'label_path': 1}\n",
    "\n",
    "def visualize_and_save(image_path, label_path, output_path):\n",
    "    # Load the image and label\n",
    "    image = Image.open(image_path)\n",
    "    label = Image.open(label_path)\n",
    "\n",
    "    # Convert label to RGB for visualization\n",
    "    label_array = np.array(label)\n",
    "    label_rgb = np.zeros((*label_array.shape, 3), dtype=np.uint8)  # Initialize RGB array\n",
    "\n",
    "    # Assign colors to each class (excluding background)\n",
    "    colors = [(255, 0, 0), (0, 255, 0), (0, 0, 255), (255, 255, 0)]  # Red, Green, Blue, Yellow for 4 classes\n",
    "    for i, color in enumerate(colors, start=1):\n",
    "        label_rgb[label_array == i] = color\n",
    "\n",
    "    label_rgb_image = Image.fromarray(label_rgb)\n",
    "\n",
    "    # Overlay label on image\n",
    "    combined = Image.blend(image.convert('RGBA'), label_rgb_image.convert('RGBA'), alpha=0.5)\n",
    "\n",
    "    # Save the visualization\n",
    "    combined.save(output_path)\n",
    "\n",
    "# Function to process and copy images\n",
    "def process_and_copy(row, index, is_test=False):\n",
    "    try:\n",
    "        input_image_path = row['image_path']\n",
    "        pid = row['patient']\n",
    "        new_name = f'kera_{index:05d}'\n",
    "\n",
    "        # Open the input image and convert to grayscale if necessary\n",
    "        input_image = Image.open(input_image_path)\n",
    "        if input_image.mode != 'L':  # 'L' mode is for grayscale images\n",
    "            input_image = input_image.convert('L')\n",
    "\n",
    "        output_image_path = os.path.join(output_base_path, 'imagesTs' if is_test else 'imagesTr', new_name + '_0000.png')\n",
    "        input_image.save(output_image_path)\n",
    "\n",
    "        # Initialize label_image with the size of the input image\n",
    "        label_image = np.zeros(input_image.size, dtype=np.uint8)\n",
    "\n",
    "        for mask, label_index in label_mapping.items():\n",
    "            if row[mask] != 'blank':\n",
    "                annotation = Image.open(row[mask]).convert('L')  # Convert to grayscale\n",
    "                annotation_array = np.array(annotation)\n",
    "                \n",
    "                # Resize label_image if dimensions don't match\n",
    "                if annotation_array.shape != label_image.shape:\n",
    "                    label_image = np.zeros(annotation_array.shape, dtype=np.uint8)\n",
    "\n",
    "                label_image[annotation_array > 0] = label_index\n",
    "                \n",
    "        label_image_path = os.path.join(output_base_path, 'labelsTs' if is_test else 'labelsTr', new_name + '.png')\n",
    "        Image.fromarray(label_image).save(label_image_path)\n",
    "\n",
    "        # Visualization (for a subset of images)\n",
    "        if index < 10:\n",
    "            vis_output_path = os.path.join(output_base_path, 'visTs' if is_test else 'visTr', new_name + '.png')\n",
    "            visualize_and_save(output_image_path, label_image_path, vis_output_path)\n",
    "\n",
    "        return input_image_path, new_name\n",
    "\n",
    "    except (IOError, FileNotFoundError, UnidentifiedImageError) as e:\n",
    "        print(f\"Error processing file: {input_image_path}. Error: {e}. Skipping.\")\n",
    "        return None, None"
   ]
  },
  {
   "cell_type": "code",
   "execution_count": null,
   "metadata": {},
   "outputs": [],
   "source": [
    "input_dir = \"your/image/dataset/directory\""
   ]
  },
  {
   "cell_type": "code",
   "execution_count": null,
   "metadata": {},
   "outputs": [],
   "source": [
    "def visualize_and_save(image_path, output_path):\n",
    "    image = Image.open(image_path).convert('L')  # Ensure grayscale\n",
    "    image.save(output_path)\n",
    "    \n",
    "def process_and_copy():\n",
    "    index = 0\n",
    "\n",
    "    for input_dir in input_dirs:\n",
    "        for root, _, files in os.walk(input_dir):\n",
    "            for file in sorted(files):\n",
    "                if file.lower().endswith(('.png', '.jpg', '.jpeg', '.bmp', '.tif', '.tiff')):\n",
    "                    image_path = os.path.join(root, file)\n",
    "                    new_name = f'kera_{index:05d}_0000.png'\n",
    "                    output_image_path = os.path.join(output_image_dir, new_name)\n",
    "\n",
    "                    try:\n",
    "                        img = Image.open(image_path)\n",
    "                        if img.mode != 'L':\n",
    "                            img = img.convert('L')\n",
    "                        img.save(output_image_path)\n",
    "\n",
    "                    except (IOError, FileNotFoundError, UnidentifiedImageError) as e:\n",
    "                        print(f\"Error processing {image_path}: {e}\")\n",
    "                        continue"
   ]
  },
  {
   "cell_type": "code",
   "execution_count": null,
   "metadata": {},
   "outputs": [],
   "source": [
    "# Process images\n",
    "name_mapping = []\n",
    "index = 0\n",
    "for _, row in tqdm(combined_df.iterrows(), total=combined_df.shape[0]):\n",
    "    original_path, new_name = process_and_copy(row, index)\n",
    "    if original_path is not None:\n",
    "        name_mapping.append([original_path, new_name])\n",
    "        index += 1\n",
    "        if test_out and index >= 100:\n",
    "            break\n",
    "\n",
    "# Process test images\n",
    "for _, row in tqdm(test_df.iterrows(), total=test_df.shape[0]):\n",
    "    original_path, new_name = process_and_copy(row, index, is_test=True)\n",
    "    name_mapping.append([original_path, new_name])\n",
    "    index += 1\n",
    "    if test_out and index >= NUM_TEST_OUT:\n",
    "        break\n",
    "\n",
    "# Save name mapping\n",
    "pd.DataFrame(name_mapping, columns=['OriginalPath', 'NNUNetName']).to_csv(name_mapping_csv, index=False)"
   ]
  },
  {
   "cell_type": "code",
   "execution_count": null,
   "metadata": {},
   "outputs": [],
   "source": [
    "name_mapping = []\n",
    "index = 0\n",
    "\n",
    "# Process all images\n",
    "for input_dir in input_dirs:\n",
    "    for root, _, files in os.walk(input_dir):\n",
    "        for file in tqdm(sorted(files), desc=f\"Processing {input_dir}\"):\n",
    "            if file.lower().endswith(('.png', '.jpg', '.jpeg', '.bmp', '.tif', '.tiff')):\n",
    "                image_path = os.path.join(root, file)\n",
    "                new_name = f'kera_{index:05d}_0000.png'\n",
    "                output_path = os.path.join(output_image_dir, new_name)\n",
    "\n",
    "                try:\n",
    "                    img = Image.open(image_path)\n",
    "                    if img.mode != 'L':\n",
    "                        img = img.convert('L')\n",
    "                    img.save(output_path)\n",
    "\n",
    "                    name_mapping.append([image_path, new_name])\n",
    "                    index += 1\n",
    "\n",
    "                except (IOError, FileNotFoundError, UnidentifiedImageError) as e:\n",
    "                    print(f\"Error processing {image_path}: {e}\")\n",
    "\n",
    "# Save mapping CSV\n",
    "mapping_csv_path = os.path.join(os.path.dirname(output_image_dir), \"image_name_mapping.csv\")\n",
    "pd.DataFrame(name_mapping, columns=['OriginalPath', 'NNUNetName']).to_csv(mapping_csv_path, index=False)\n",
    "\n",
    "print(f\"Done. Saved {index} images.\")\n",
    "print(f\"Name mapping saved to: {mapping_csv_path}\")"
   ]
  },
  {
   "cell_type": "code",
   "execution_count": null,
   "metadata": {},
   "outputs": [],
   "source": [
    "# Create dataset.json\n",
    "dataset_json = {\n",
    "    \"channel_names\": {\"0\": \"0000\"},\n",
    "    \"labels\": {},  # No training, so no labels\n",
    "    \"numTraining\": 0,\n",
    "    \"file_ending\": \".png\",\n",
    "}\n",
    "with open(os.path.join(output_base_path, 'dataset.json'), 'w') as f:\n",
    "    json.dump(dataset_json, f, indent=4)"
   ]
  }
 ],
 "metadata": {
  "kernelspec": {
   "display_name": "nnunet_env",
   "language": "python",
   "name": "python3"
  },
  "language_info": {
   "codemirror_mode": {
    "name": "ipython",
    "version": 3
   },
   "file_extension": ".py",
   "mimetype": "text/x-python",
   "name": "python",
   "nbconvert_exporter": "python",
   "pygments_lexer": "ipython3",
   "version": "3.9.12"
  }
 },
 "nbformat": 4,
 "nbformat_minor": 2
}
